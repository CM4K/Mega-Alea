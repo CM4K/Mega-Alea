{
 "cells": [
  {
   "cell_type": "markdown",
   "metadata": {},
   "source": [
    "<h2>Mega Alea v.1.1</h2>\n",
    "<h8><i>&nbsp;&nbsp;&nbsp;&nbsp;&nbsp;&nbsp;&nbsp;&nbsp;&nbsp;&nbsp;&nbsp; By Cantídio Mello ©<i></h8>"
   ]
  },
  {
   "cell_type": "code",
   "execution_count": 35,
   "metadata": {},
   "outputs": [],
   "source": [
    "from bs4 import BeautifulSoup\n",
    "import requests\n",
    "import random\n",
    "import locale\n",
    "import math\n",
    "import re"
   ]
  },
  {
   "cell_type": "code",
   "execution_count": 89,
   "metadata": {},
   "outputs": [
    {
     "name": "stdout",
     "output_type": "stream",
     "text": [
      "Sorteio aleatório da Mega:\n",
      "[3, 8, 16, 28, 39, 43]\n"
     ]
    }
   ],
   "source": [
    "alea = sorted(random.sample(range(0,61),6))\n",
    "\n",
    "print ('Sorteio aleatório da Mega:\\n' + str(alea))"
   ]
  },
  {
   "cell_type": "code",
   "execution_count": 37,
   "metadata": {},
   "outputs": [
    {
     "name": "stdout",
     "output_type": "stream",
     "text": [
      "Total de 50.063.860 combinações possíveis\n"
     ]
    }
   ],
   "source": [
    "comb = (math.comb(60,6))\n",
    "format_comb= '{:0,.0f}'.format(comb).replace(\",\", \".\")\n",
    "\n",
    "print ('Total de ' + format_comb + ' combinações possíveis')"
   ]
  },
  {
   "cell_type": "code",
   "execution_count": 91,
   "metadata": {},
   "outputs": [
    {
     "name": "stdout",
     "output_type": "stream",
     "text": [
      "Preço unitário: R$ 4,50\n",
      "Combinações: 50.063.860\n",
      "____________________________________\n",
      "R$ 225.287.370,00 reais gastos com sorteios\n"
     ]
    }
   ],
   "source": [
    "real = (\"R$ \")\n",
    "price = 4.50\n",
    "combinacoes = comb * price\n",
    "\n",
    "locale.setlocale(locale.LC_ALL, 'de_DE') \n",
    "\n",
    "print (\"Preço unitário: \" + real + str(locale.format_string('%.2f', price, True)))\n",
    "print (\"Combinações: \" + str(format_comb))\n",
    "print (\"____________________________________\")\n",
    "print (real + locale.format_string('%.2f', combinacoes, True) + ' reais gastos com sorteios')"
   ]
  },
  {
   "cell_type": "code",
   "execution_count": 39,
   "metadata": {},
   "outputs": [
    {
     "name": "stdout",
     "output_type": "stream",
     "text": [
      "Valor total de combinações menos o prêmio acumulado:\n",
      "R$ -51.778.105,00 reais\n"
     ]
    }
   ],
   "source": [
    "url = 'https://www.megasena.com/resultados' # OBS.: conferir se a URL não foi alterada\n",
    "\n",
    "site = requests.get(url).content\n",
    "data = BeautifulSoup(site,'lxml')\n",
    "buscar = data.find('td', {'class':'mobTitle'})\n",
    "premio = buscar.get_text()\n",
    "\n",
    "subs_char = re.sub('[R$. ]', '', premio)\n",
    "subs_com = re.sub(',', '.', subs_char) # print(subs_com) # print(combinacoes)\n",
    "\n",
    "acumulado = int(float(subs_com))\n",
    "\n",
    "diferença_total = acumulado - combinacoes\n",
    "\n",
    "print(\"Valor total de combinações menos o prêmio acumulado:\")\n",
    "print (real + locale.format_string('%.2f', diferença_total, True) + ' reais')"
   ]
  },
  {
   "cell_type": "code",
   "execution_count": 92,
   "metadata": {},
   "outputs": [
    {
     "name": "stdout",
     "output_type": "stream",
     "text": [
      "Resultados anteriores da Mega:\n",
      "\n",
      "1 - 6 - 10 - 30 - 33 - 35\n",
      "\n",
      "9 - 15 - 23 - 25 - 29 - 30\n",
      "\n",
      "10 - 25 - 31 - 37 - 38 - 57\n",
      "\n",
      "3 - 23 - 28 - 34 - 38 - 48\n",
      "\n",
      "20 - 23 - 32 - 36 - 39 - 57\n",
      "\n",
      "25 - 38 - 45 - 53 - 55 - 56\n",
      "\n",
      "2 - 5 - 27 - 30 - 46 - 53\n",
      "\n",
      "12 - 20 - 22 - 25 - 26 - 55\n",
      "\n",
      "10 - 28 - 45 - 47 - 57 - 59\n",
      "\n",
      "2 - 8 - 28 - 34 - 41 - 49\n",
      "\n",
      "1 - 23 - 32 - 33 - 36 - 59\n",
      "\n",
      "6 - 15 - 19 - 20 - 33 - 52\n",
      "\n",
      "12 - 24 - 26 - 31 - 37 - 48\n",
      "\n",
      "9 - 22 - 27 - 30 - 33 - 45\n",
      "\n",
      "1 - 3 - 24 - 37 - 51 - 56\n",
      "\n",
      "28 - 36 - 39 - 44 - 56 - 60\n",
      "\n",
      "17 - 18 - 20 - 37 - 45 - 53\n",
      "\n",
      "10 - 14 - 17 - 18 - 23 - 30\n",
      "\n",
      "1 - 5 - 18 - 49 - 55 - 56\n",
      "\n",
      "14 - 17 - 18 - 28 - 30 - 44\n",
      "\n",
      "3 - 5 - 32 - 56 - 57 - 59\n",
      "\n",
      "4 - 15 - 22 - 53 - 56 - 60\n",
      "\n",
      "8 - 19 - 29 - 38 - 48 - 56\n",
      "\n",
      "2 - 16 - 24 - 38 - 43 - 59\n",
      "\n",
      "4 - 13 - 21 - 26 - 47 - 51\n",
      "\n",
      "3 - 20 - 22 - 37 - 41 - 43\n",
      "\n"
     ]
    }
   ],
   "source": [
    "print('Resultados anteriores da Mega:\\n')\n",
    "\n",
    "buscar_ul = data.find_all('ul', {'class':'balls'})\n",
    "buscar_li = data.find_all('li', {'class':'ball'})\n",
    "lista = len(buscar_li) # print (lista)\n",
    "\n",
    "for li in range(lista): # print(li.text, end=' - ')\n",
    "    resultados = buscar_li[li].text\n",
    "    \n",
    "    if li % 6 == 5:\n",
    "        print(resultados, end='')\n",
    "        print ('\\n')\n",
    "    else:\n",
    "        print(resultados, end=' - ')"
   ]
  },
  {
   "cell_type": "code",
   "execution_count": null,
   "metadata": {},
   "outputs": [],
   "source": [
    "# alea (apareceu quantas vezes em): buscar_li\n",
    "# alea (apareceu quantos jogos atrás): buscar_li"
   ]
  }
 ],
 "metadata": {
  "kernelspec": {
   "display_name": "Python 3",
   "language": "python",
   "name": "python3"
  },
  "language_info": {
   "codemirror_mode": {
    "name": "ipython",
    "version": 3
   },
   "file_extension": ".py",
   "mimetype": "text/x-python",
   "name": "python",
   "nbconvert_exporter": "python",
   "pygments_lexer": "ipython3",
   "version": "3.9.13"
  }
 },
 "nbformat": 4,
 "nbformat_minor": 4
}
